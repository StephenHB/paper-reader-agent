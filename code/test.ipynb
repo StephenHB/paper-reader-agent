{
 "cells": [
  {
   "cell_type": "code",
   "execution_count": null,
   "id": "0",
   "metadata": {},
   "outputs": [],
   "source": [
    "import argparse\n",
    "from agents.paper_agent import PaperAgent"
   ]
  },
  {
   "cell_type": "code",
   "execution_count": null,
   "id": "1",
   "metadata": {},
   "outputs": [],
   "source": [
    "PDF_DIR = \"/Users/stephenzhang/Desktop/AB_test\""
   ]
  },
  {
   "cell_type": "code",
   "execution_count": null,
   "id": "2",
   "metadata": {},
   "outputs": [],
   "source": [
    "parser = argparse.ArgumentParser(description=\"Build and run a paper reader agent\")\n",
    "parser.add_argument(\n",
    "    \"--pdf_dir\", type=str, required=True, help=\"Directory containing PDF files\"\n",
    ")\n",
    "parser.add_argument(\n",
    "    \"--index_name\",\n",
    "    type=str,\n",
    "    default=\"research_papers\",\n",
    "    help=\"Name for the vector store index\",\n",
    ")"
   ]
  },
  {
   "cell_type": "code",
   "execution_count": null,
   "id": "3",
   "metadata": {},
   "outputs": [],
   "source": [
    "parser.add_argument(\n",
    "    \"--interactive\",\n",
    "    action=\"store_true\",\n",
    "    help=\"Start interactive session after building\",\n",
    ")\n",
    "args = parser.parse_args()"
   ]
  },
  {
   "cell_type": "code",
   "execution_count": null,
   "id": "4",
   "metadata": {},
   "outputs": [],
   "source": [
    "\n",
    "\n",
    "\n",
    "# Initialize agent\n",
    "agent = PaperAgent(\n",
    "    embedding_model=\"nomic-embed-text\",\n",
    "    llm_model=\"llama3.2:latest\",\n",
    "    vector_store_dir=\"./vector_stores\",\n",
    ")"
   ]
  }
 ],
 "metadata": {
  "kernelspec": {
   "display_name": "paper-reader",
   "language": "python",
   "name": "python3"
  },
  "language_info": {
   "codemirror_mode": {
    "name": "ipython",
    "version": 3
   },
   "file_extension": ".py",
   "mimetype": "text/x-python",
   "name": "python",
   "nbconvert_exporter": "python",
   "pygments_lexer": "ipython3",
   "version": "3.11.13"
  }
 },
 "nbformat": 4,
 "nbformat_minor": 5
}

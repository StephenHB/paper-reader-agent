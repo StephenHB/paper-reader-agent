{
 "cells": [
  {
   "cell_type": "code",
   "execution_count": null,
   "id": "0",
   "metadata": {},
   "outputs": [],
   "source": [
    "import os\n",
    "import numpy as np\n",
    "import faiss\n",
    "import ollama\n",
    "from tqdm import tqdm\n",
    "import pickle"
   ]
  },
  {
   "cell_type": "code",
   "execution_count": null,
   "id": "1",
   "metadata": {},
   "outputs": [],
   "source": [
    "# 步骤2: 配置常量\n",
    "EMBEDDING_MODEL = \"nomic-embed-text\"\n",
    "VECTOR_STORE_DIR = \"./vector_stores\"\n",
    "INDEX_NAME = \"my_documents\"\n",
    "MODEL_NAME = \"llama3.2:latest\" \n",
    "\n",
    "# 步骤3: 加载向量存储\n",
    "def load_vector_store(index_name):\n",
    "    index_path = os.path.join(VECTOR_STORE_DIR, f\"{index_name}.faiss\")\n",
    "    metadata_path = os.path.join(VECTOR_STORE_DIR, f\"{index_name}_metadata.pkl\")\n",
    "    \n",
    "    try:\n",
    "        index = faiss.read_index(index_path)\n",
    "        with open(metadata_path, \"rb\") as f:\n",
    "            data = pickle.load(f)\n",
    "            chunks = data['chunks']\n",
    "            metadata = data['metadata']\n",
    "        print(f\"✅ 成功加载向量存储 | 索引大小: {index.ntotal}\")\n",
    "        return index, chunks, metadata\n",
    "    except Exception as e:\n",
    "        print(f\"❌ 加载失败: {str(e)}\")\n",
    "        return None, None, None\n",
    "\n",
    "# 加载向量存储\n",
    "index, chunks, metadata = load_vector_store(INDEX_NAME)\n",
    "\n",
    "# 步骤4: 定义查询函数\n",
    "def query_documents(question, index, chunks, metadata, model_name=MODEL_NAME, k=3):\n",
    "    \"\"\"查询文档并获取回答\"\"\"\n",
    "    try:\n",
    "        # 获取问题嵌入\n",
    "        response = ollama.embeddings(model=EMBEDDING_MODEL, prompt=question)\n",
    "        query_embedding = np.array([response['embedding']], dtype=np.float32)\n",
    "        \n",
    "        # 搜索相似内容\n",
    "        distances, indices = index.search(query_embedding, k)\n",
    "        \n",
    "        # 获取相关文本块\n",
    "        context_chunks = [chunks[i] for i in indices[0]]\n",
    "        context_metadata = [metadata[i] for i in indices[0]]\n",
    "        \n",
    "        # 构造上下文\n",
    "        context = \"\\n\\n\".join([\n",
    "            f\"来源: {meta['filename']} 第{meta['page']}页\\n内容: {chunk}\"\n",
    "            for chunk, meta in zip(context_chunks, context_metadata)\n",
    "        ])\n",
    "        \n",
    "        # 构造提示\n",
    "        prompt = f\"\"\"\n",
    "        基于以下上下文信息回答问题：\n",
    "        {context}\n",
    "        \n",
    "        问题: {question}\n",
    "        回答:\n",
    "        \"\"\"\n",
    "        \n",
    "        # 获取回答\n",
    "        response = ollama.chat(\n",
    "            model=model_name,\n",
    "            messages=[{'role': 'user', 'content': prompt}]\n",
    "        )\n",
    "        \n",
    "        return response['message']['content'], context_metadata\n",
    "        \n",
    "    except Exception as e:\n",
    "        return f\"查询失败: {str(e)}\", []\n",
    "\n",
    "# 步骤5: 交互式文档查询\n",
    "print(\"🚀 文档助手已启动! 输入 'exit' 退出\")"
   ]
  },
  {
   "cell_type": "code",
   "execution_count": null,
   "id": "2",
   "metadata": {},
   "outputs": [],
   "source": [
    "question = \"what is time llm\"\n",
    "answer, sources = query_documents(question, index, chunks, metadata)\n",
    "\n",
    "print(f\"🤖 助手回答:\\n{answer}\\n\")\n",
    "print(\"📚 来源:\")\n",
    "for i, source in enumerate(sources):\n",
    "    print(f\"{i+1}. {source['filename']} - 第{source['page']}页\")"
   ]
  },
  {
   "cell_type": "code",
   "execution_count": null,
   "id": "3",
   "metadata": {},
   "outputs": [],
   "source": [
    "question = \"time llm vs tab pfn, what is the difference\"\n",
    "answer, sources = query_documents(question, index, chunks, metadata)\n",
    "\n",
    "print(f\"🤖 助手回答:\\n{answer}\\n\")\n",
    "print(\"📚 来源:\")\n",
    "for i, source in enumerate(sources):\n",
    "    print(f\"{i+1}. {source['filename']} - 第{source['page']}页\")"
   ]
  },
  {
   "cell_type": "code",
   "execution_count": null,
   "id": "4",
   "metadata": {},
   "outputs": [],
   "source": [
    "question = \"how to compare results from times llm and tabpfn\"\n",
    "answer, sources = query_documents(question, index, chunks, metadata)\n",
    "\n",
    "print(f\"🤖 助手回答:\\n{answer}\\n\")\n",
    "print(\"📚 来源:\")\n",
    "for i, source in enumerate(sources):\n",
    "    print(f\"{i+1}. {source['filename']} - 第{source['page']}页\")"
   ]
  },
  {
   "cell_type": "code",
   "execution_count": null,
   "id": "5",
   "metadata": {},
   "outputs": [],
   "source": [
    "question = \"whats the difference between time llm and LLMs- Multi-Wavelet Number Embeddings\"\n",
    "answer, sources = query_documents(question, index, chunks, metadata)\n",
    "\n",
    "print(f\"🤖 Answer:\\n{answer}\\n\")\n",
    "print(\"📚 来源:\")\n",
    "for i, source in enumerate(sources):\n",
    "    print(f\"{i+1}. {source['filename']} - 第{source['page']}页\")"
   ]
  },
  {
   "cell_type": "code",
   "execution_count": null,
   "id": "6",
   "metadata": {},
   "outputs": [],
   "source": []
  }
 ],
 "metadata": {
  "kernelspec": {
   "display_name": "paper-reader",
   "language": "python",
   "name": "python3"
  },
  "language_info": {
   "codemirror_mode": {
    "name": "ipython",
    "version": 3
   },
   "file_extension": ".py",
   "mimetype": "text/x-python",
   "name": "python",
   "nbconvert_exporter": "python",
   "pygments_lexer": "ipython3",
   "version": "3.11.13"
  }
 },
 "nbformat": 4,
 "nbformat_minor": 5
}

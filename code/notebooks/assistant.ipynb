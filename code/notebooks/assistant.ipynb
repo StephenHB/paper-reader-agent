{
 "cells": [
  {
   "cell_type": "code",
   "execution_count": 15,
   "id": "9f453ed3",
   "metadata": {},
   "outputs": [],
   "source": [
    "import os\n",
    "import numpy as np\n",
    "import faiss\n",
    "import ollama\n",
    "from tqdm import tqdm\n",
    "import pickle"
   ]
  },
  {
   "cell_type": "code",
   "execution_count": 16,
   "id": "97b8c4ef",
   "metadata": {},
   "outputs": [
    {
     "name": "stdout",
     "output_type": "stream",
     "text": [
      "✅ 成功加载向量存储 | 索引大小: 202\n",
      "🚀 文档助手已启动! 输入 'exit' 退出\n"
     ]
    }
   ],
   "source": [
    "\n",
    "\n",
    "# 步骤2: 配置常量\n",
    "EMBEDDING_MODEL = \"nomic-embed-text\"\n",
    "VECTOR_STORE_DIR = \"./vector_stores\"\n",
    "INDEX_NAME = \"my_documents\"\n",
    "MODEL_NAME = \"llama3.2:latest\" \n",
    "\n",
    "# 步骤3: 加载向量存储\n",
    "def load_vector_store(index_name):\n",
    "    index_path = os.path.join(VECTOR_STORE_DIR, f\"{index_name}.faiss\")\n",
    "    metadata_path = os.path.join(VECTOR_STORE_DIR, f\"{index_name}_metadata.pkl\")\n",
    "    \n",
    "    try:\n",
    "        index = faiss.read_index(index_path)\n",
    "        with open(metadata_path, \"rb\") as f:\n",
    "            data = pickle.load(f)\n",
    "            chunks = data['chunks']\n",
    "            metadata = data['metadata']\n",
    "        print(f\"✅ 成功加载向量存储 | 索引大小: {index.ntotal}\")\n",
    "        return index, chunks, metadata\n",
    "    except Exception as e:\n",
    "        print(f\"❌ 加载失败: {str(e)}\")\n",
    "        return None, None, None\n",
    "\n",
    "# 加载向量存储\n",
    "index, chunks, metadata = load_vector_store(INDEX_NAME)\n",
    "\n",
    "# 步骤4: 定义查询函数\n",
    "def query_documents(question, index, chunks, metadata, model_name=MODEL_NAME, k=3):\n",
    "    \"\"\"查询文档并获取回答\"\"\"\n",
    "    try:\n",
    "        # 获取问题嵌入\n",
    "        response = ollama.embeddings(model=EMBEDDING_MODEL, prompt=question)\n",
    "        query_embedding = np.array([response['embedding']], dtype=np.float32)\n",
    "        \n",
    "        # 搜索相似内容\n",
    "        distances, indices = index.search(query_embedding, k)\n",
    "        \n",
    "        # 获取相关文本块\n",
    "        context_chunks = [chunks[i] for i in indices[0]]\n",
    "        context_metadata = [metadata[i] for i in indices[0]]\n",
    "        \n",
    "        # 构造上下文\n",
    "        context = \"\\n\\n\".join([\n",
    "            f\"来源: {meta['filename']} 第{meta['page']}页\\n内容: {chunk}\"\n",
    "            for chunk, meta in zip(context_chunks, context_metadata)\n",
    "        ])\n",
    "        \n",
    "        # 构造提示\n",
    "        prompt = f\"\"\"\n",
    "        基于以下上下文信息回答问题：\n",
    "        {context}\n",
    "        \n",
    "        问题: {question}\n",
    "        回答:\n",
    "        \"\"\"\n",
    "        \n",
    "        # 获取回答\n",
    "        response = ollama.chat(\n",
    "            model=model_name,\n",
    "            messages=[{'role': 'user', 'content': prompt}]\n",
    "        )\n",
    "        \n",
    "        return response['message']['content'], context_metadata\n",
    "        \n",
    "    except Exception as e:\n",
    "        return f\"查询失败: {str(e)}\", []\n",
    "\n",
    "# 步骤5: 交互式文档查询\n",
    "print(\"🚀 文档助手已启动! 输入 'exit' 退出\")"
   ]
  },
  {
   "cell_type": "code",
   "execution_count": 17,
   "id": "bb40c41a",
   "metadata": {},
   "outputs": [
    {
     "name": "stdout",
     "output_type": "stream",
     "text": [
      "🤖 助手回答:\n",
      "TIME-LLM是指通过重programming大型语言模型（Large Language Model）来适应时间系列预测任务的框架。它利用了自然语言指导（Prompt-as-Prefix）和多头关联层（Multi-head Attention Layer）等技术，能够有效地将时间序列数据转换为可以被语言模型理解的形式，从而实现时间系列预测。\n",
      "\n",
      "📚 来源:\n",
      "1. TIME-LLM- TIME SERIES FORECASTING BY REPROGRAMMING LARGE LANGUAGE MODELS.pdf - 第6页\n",
      "2. TIME-LLM- TIME SERIES FORECASTING BY REPROGRAMMING LARGE LANGUAGE MODELS.pdf - 第9页\n",
      "3. TIME-LLM- TIME SERIES FORECASTING BY REPROGRAMMING LARGE LANGUAGE MODELS.pdf - 第5页\n"
     ]
    }
   ],
   "source": [
    "question = \"what is time llm\"\n",
    "answer, sources = query_documents(question, index, chunks, metadata)\n",
    "\n",
    "print(f\"🤖 助手回答:\\n{answer}\\n\")\n",
    "print(\"📚 来源:\")\n",
    "for i, source in enumerate(sources):\n",
    "    print(f\"{i+1}. {source['filename']} - 第{source['page']}页\")"
   ]
  },
  {
   "cell_type": "code",
   "execution_count": 18,
   "id": "2488c371",
   "metadata": {},
   "outputs": [
    {
     "name": "stdout",
     "output_type": "stream",
     "text": [
      "🤖 助手回答:\n",
      "根据提供的文本信息，TabPFN（Transformer for Tabular Prediction）和TIME-LLM（Time Series Forecasting by Reprogramming Large Language Models）的区别在于：\n",
      "\n",
      "1. 类型：TabPFN是用于解决小尺寸表格分类问题的Transformer模型，而TIME-LLM是用于时间系列预测的 Transformer模型。\n",
      "2. 应用场景：TabPFN主要用于解决小尺寸表格分类问题，特别是那些没有缺失特征的情况下；TIME-LLM则用于时间系列预测和重现。\n",
      "3. 性能：TIME-LLM在时间系列预测方面表现出优于其他方法的巨大优势，包括在少量shot和零个-shot场景中。TabPFN虽然对小尺寸表格分类问题有很好的性能，但在长期预测中没有 TIME-LLM 相同的优势。\n",
      "\n",
      "总的来说，TIME-LLM是专门设计用于时间系列预测的Transformer模型，而TabPFN则是一个更广泛应用于表格分类的问题的Transformer模型。\n",
      "\n",
      "📚 来源:\n",
      "1. TabPFN- A Transformer That Solves Small Tabular Classification Problems in a Second.pdf - 第22页\n",
      "2. TabPFN- A Transformer That Solves Small Tabular Classification Problems in a Second.pdf - 第33页\n",
      "3. TIME-LLM- TIME SERIES FORECASTING BY REPROGRAMMING LARGE LANGUAGE MODELS.pdf - 第6页\n"
     ]
    }
   ],
   "source": [
    "question = \"time llm vs tab pfn, what is the difference\"\n",
    "answer, sources = query_documents(question, index, chunks, metadata)\n",
    "\n",
    "print(f\"🤖 助手回答:\\n{answer}\\n\")\n",
    "print(\"📚 来源:\")\n",
    "for i, source in enumerate(sources):\n",
    "    print(f\"{i+1}. {source['filename']} - 第{source['page']}页\")"
   ]
  },
  {
   "cell_type": "code",
   "execution_count": 19,
   "id": "a9fcc6ee",
   "metadata": {},
   "outputs": [
    {
     "name": "stdout",
     "output_type": "stream",
     "text": [
      "🤖 助手回答:\n",
      "根据 TabPFN- A Transformer That Solves Small Tabular Classification Problems in a Second.pdf 的内容，我们可以看到以下几点关于时间比较的信息：\n",
      "\n",
      "1. TabPFN 在计算机上运行速度非常快，平均每 4.4 秒就可以处理一个数据集，这远比其他基线方法快得多。\n",
      "2. TabPFN 的总体时间（包括调整和预测）大于或等于其他基线方法。\n",
      "3. tabpfn 和 other baselines 的 time taken for combined fitting, tuning and prediction 分别在 Table 2 中。\n",
      "\n",
      "为了比较结果，从这些信息中我们可以看到 TabPFN 在运行速度方面是其他基线方法的明显优势。\n",
      "\n",
      "📚 来源:\n",
      "1. TabPFN- A Transformer That Solves Small Tabular Classification Problems in a Second.pdf - 第22页\n",
      "2. TabPFN- A Transformer That Solves Small Tabular Classification Problems in a Second.pdf - 第9页\n",
      "3. TabPFN- A Transformer That Solves Small Tabular Classification Problems in a Second.pdf - 第33页\n"
     ]
    }
   ],
   "source": [
    "question = \"how to compare results from times llm and tabpfn\"\n",
    "answer, sources = query_documents(question, index, chunks, metadata)\n",
    "\n",
    "print(f\"🤖 助手回答:\\n{answer}\\n\")\n",
    "print(\"📚 来源:\")\n",
    "for i, source in enumerate(sources):\n",
    "    print(f\"{i+1}. {source['filename']} - 第{source['page']}页\")"
   ]
  }
 ],
 "metadata": {
  "kernelspec": {
   "display_name": "paper-reader",
   "language": "python",
   "name": "python3"
  },
  "language_info": {
   "codemirror_mode": {
    "name": "ipython",
    "version": 3
   },
   "file_extension": ".py",
   "mimetype": "text/x-python",
   "name": "python",
   "nbconvert_exporter": "python",
   "pygments_lexer": "ipython3",
   "version": "3.11.13"
  }
 },
 "nbformat": 4,
 "nbformat_minor": 5
}

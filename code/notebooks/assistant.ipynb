{
 "cells": [
  {
   "cell_type": "code",
   "execution_count": 7,
   "id": "9f453ed3",
   "metadata": {},
   "outputs": [],
   "source": [
    "import os\n",
    "import numpy as np\n",
    "import faiss\n",
    "import ollama\n",
    "from tqdm import tqdm\n",
    "import pickle"
   ]
  },
  {
   "cell_type": "code",
   "execution_count": 8,
   "id": "97b8c4ef",
   "metadata": {},
   "outputs": [
    {
     "name": "stdout",
     "output_type": "stream",
     "text": [
      "✅ 成功加载向量存储 | 索引大小: 202\n",
      "🚀 文档助手已启动! 输入 'exit' 退出\n"
     ]
    }
   ],
   "source": [
    "\n",
    "\n",
    "# 步骤2: 配置常量\n",
    "EMBEDDING_MODEL = \"nomic-embed-text\"\n",
    "VECTOR_STORE_DIR = \"./vector_stores\"\n",
    "INDEX_NAME = \"my_documents\"\n",
    "MODEL_NAME = \"llama3.2:latest\" \n",
    "\n",
    "# 步骤3: 加载向量存储\n",
    "def load_vector_store(index_name):\n",
    "    index_path = os.path.join(VECTOR_STORE_DIR, f\"{index_name}.faiss\")\n",
    "    metadata_path = os.path.join(VECTOR_STORE_DIR, f\"{index_name}_metadata.pkl\")\n",
    "    \n",
    "    try:\n",
    "        index = faiss.read_index(index_path)\n",
    "        with open(metadata_path, \"rb\") as f:\n",
    "            data = pickle.load(f)\n",
    "            chunks = data['chunks']\n",
    "            metadata = data['metadata']\n",
    "        print(f\"✅ 成功加载向量存储 | 索引大小: {index.ntotal}\")\n",
    "        return index, chunks, metadata\n",
    "    except Exception as e:\n",
    "        print(f\"❌ 加载失败: {str(e)}\")\n",
    "        return None, None, None\n",
    "\n",
    "# 加载向量存储\n",
    "index, chunks, metadata = load_vector_store(INDEX_NAME)\n",
    "\n",
    "# 步骤4: 定义查询函数\n",
    "def query_documents(question, index, chunks, metadata, model_name=MODEL_NAME, k=3):\n",
    "    \"\"\"查询文档并获取回答\"\"\"\n",
    "    try:\n",
    "        # 获取问题嵌入\n",
    "        response = ollama.embeddings(model=EMBEDDING_MODEL, prompt=question)\n",
    "        query_embedding = np.array([response['embedding']], dtype=np.float32)\n",
    "        \n",
    "        # 搜索相似内容\n",
    "        distances, indices = index.search(query_embedding, k)\n",
    "        \n",
    "        # 获取相关文本块\n",
    "        context_chunks = [chunks[i] for i in indices[0]]\n",
    "        context_metadata = [metadata[i] for i in indices[0]]\n",
    "        \n",
    "        # 构造上下文\n",
    "        context = \"\\n\\n\".join([\n",
    "            f\"来源: {meta['filename']} 第{meta['page']}页\\n内容: {chunk}\"\n",
    "            for chunk, meta in zip(context_chunks, context_metadata)\n",
    "        ])\n",
    "        \n",
    "        # 构造提示\n",
    "        prompt = f\"\"\"\n",
    "        基于以下上下文信息回答问题：\n",
    "        {context}\n",
    "        \n",
    "        问题: {question}\n",
    "        回答:\n",
    "        \"\"\"\n",
    "        \n",
    "        # 获取回答\n",
    "        response = ollama.chat(\n",
    "            model=model_name,\n",
    "            messages=[{'role': 'user', 'content': prompt}]\n",
    "        )\n",
    "        \n",
    "        return response['message']['content'], context_metadata\n",
    "        \n",
    "    except Exception as e:\n",
    "        return f\"查询失败: {str(e)}\", []\n",
    "\n",
    "# 步骤5: 交互式文档查询\n",
    "print(\"🚀 文档助手已启动! 输入 'exit' 退出\")"
   ]
  },
  {
   "cell_type": "code",
   "execution_count": null,
   "id": "bb40c41a",
   "metadata": {},
   "outputs": [
    {
     "name": "stdout",
     "output_type": "stream",
     "text": [
      "🤖 助手回答:\n",
      "TIME-LLM是通过重编程大型语言模型来实现时间系列 forecasting 的方法。它通过将时间系列数据转换为自然语言的prototype，并利用 Prompt-as-Prefix 批量激活 LLMs，以实现高性能的时间 series forecasting。\n",
      "\n",
      "📚 来源:\n",
      "1. TIME-LLM- TIME SERIES FORECASTING BY REPROGRAMMING LARGE LANGUAGE MODELS.pdf - 第6页\n",
      "2. TIME-LLM- TIME SERIES FORECASTING BY REPROGRAMMING LARGE LANGUAGE MODELS.pdf - 第9页\n",
      "3. TIME-LLM- TIME SERIES FORECASTING BY REPROGRAMMING LARGE LANGUAGE MODELS.pdf - 第5页\n"
     ]
    }
   ],
   "source": [
    "question = \"what is time llm\"\n",
    "answer, sources = query_documents(question, index, chunks, metadata)\n",
    "\n",
    "print(f\"🤖 助手回答:\\n{answer}\\n\")\n",
    "print(\"📚 来源:\")\n",
    "for i, source in enumerate(sources):\n",
    "    print(f\"{i+1}. {source['filename']} - 第{source['page']}页\")"
   ]
  },
  {
   "cell_type": "code",
   "execution_count": 14,
   "id": "2488c371",
   "metadata": {},
   "outputs": [
    {
     "name": "stdout",
     "output_type": "stream",
     "text": [
      "🤖 助手回答:\n",
      "根据提供的文本信息，TIME-LLM（Time Series Forecasting using Large Language Models）和TabPFN（Transformer That Solves Small Tabular Classification Problems in a Second）是两个不同的机器学习模型。\n",
      "\n",
      "TIME-LLM 是用于时间序列预测的Large Language Model（LLM），它通过使用Llama-7B作为底层模型，结合 transformer技术来实现时间序列预测。它在各种基线和竞争性模型上表现出卓越的效果，尤其是在少shot和零-shot场景中。\n",
      "\n",
      "TabPFN 则是用于表格分类任务的Transformer模型，它通过对特定类型的表格数据进行训练，展示出在快速运行和调优阶段都能获得优异的性能。它在数字数据中表现最强大，并且在长时间运行期间也取得了良好的结果。\n",
      "\n",
      "比较TIME-LLM和TabPFN的主要区别在于它们是用于不同类型的问题的模型：\n",
      "\n",
      "* TIME-LLM 是用于时间序列预测的模型。\n",
      "* TabPFN 是用于表格分类任务的模型。\n",
      "\n",
      "尽管两者都使用Transformer技术，但它们有不同的设计和训练目标。TIME-LLM 的重点是利用大型语言模型来解决时间序列预测的问题，而TabPFN 的重点则是在快速运行和调优阶段获得高性能。\n",
      "\n",
      "📚 来源:\n",
      "1. TabPFN- A Transformer That Solves Small Tabular Classification Problems in a Second.pdf - 第22页\n",
      "2. TabPFN- A Transformer That Solves Small Tabular Classification Problems in a Second.pdf - 第33页\n",
      "3. TIME-LLM- TIME SERIES FORECASTING BY REPROGRAMMING LARGE LANGUAGE MODELS.pdf - 第6页\n"
     ]
    }
   ],
   "source": [
    "question = \"time llm vs tab pfn, what is the difference\"\n",
    "answer, sources = query_documents(question, index, chunks, metadata)\n",
    "\n",
    "print(f\"🤖 助手回答:\\n{answer}\\n\")\n",
    "print(\"📚 来源:\")\n",
    "for i, source in enumerate(sources):\n",
    "    print(f\"{i+1}. {source['filename']} - 第{source['page']}页\")"
   ]
  },
  {
   "cell_type": "code",
   "execution_count": null,
   "id": "a9fcc6ee",
   "metadata": {},
   "outputs": [],
   "source": []
  }
 ],
 "metadata": {
  "kernelspec": {
   "display_name": "paper-reader",
   "language": "python",
   "name": "python3"
  },
  "language_info": {
   "codemirror_mode": {
    "name": "ipython",
    "version": 3
   },
   "file_extension": ".py",
   "mimetype": "text/x-python",
   "name": "python",
   "nbconvert_exporter": "python",
   "pygments_lexer": "ipython3",
   "version": "3.11.13"
  }
 },
 "nbformat": 4,
 "nbformat_minor": 5
}
